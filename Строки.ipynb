{
 "cells": [
  {
   "cell_type": "code",
   "execution_count": 2,
   "metadata": {},
   "outputs": [
    {
     "name": "stdout",
     "output_type": "stream",
     "text": [
      "Количество гласных букв равно 17\n",
      "Количество согласных букв равно 18\n",
      "% гласных букв 48.57142857142857\n",
      "% согласных букв 51.42857142857142\n",
      "Общее количество букв 35\n"
     ]
    }
   ],
   "source": [
    "\n",
    "str = \"Сегодня мы изучаем язык программирования Python\"\n",
    "s1 = sum(1 for _ in str if _ in 'ауоыиэяюёе')\n",
    "s2 = sum(1 for _ in str if _ in 'бвгджзйклмнпрстфхцчшщ')\n",
    "S = sum(1 for _ in str if _ in 'ауоыиэяюёебвгджзйклмнпрстфхцчшщ')\n",
    "p1 = (s1/S)*100\n",
    "p2 = (s2/S)*100\n",
    "print('Количество гласных букв равно', s1)\n",
    "print('Количество согласных букв равно', s2)\n",
    "print('% гласных букв', p1)\n",
    "print('% согласных букв', p2)\n",
    "print('Общее количество букв', S)"
   ]
  }
 ],
 "metadata": {
  "interpreter": {
   "hash": "227fe47c54a969558d67e8dfce5b4672aedaf08e78e55860c1e3e9d28a11b998"
  },
  "kernelspec": {
   "display_name": "Python 3.10.2 64-bit",
   "language": "python",
   "name": "python3"
  },
  "language_info": {
   "codemirror_mode": {
    "name": "ipython",
    "version": 3
   },
   "file_extension": ".py",
   "mimetype": "text/x-python",
   "name": "python",
   "nbconvert_exporter": "python",
   "pygments_lexer": "ipython3",
   "version": "3.10.4"
  },
  "orig_nbformat": 4
 },
 "nbformat": 4,
 "nbformat_minor": 2
}
